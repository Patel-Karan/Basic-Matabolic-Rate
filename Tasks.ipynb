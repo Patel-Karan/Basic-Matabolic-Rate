{
 "cells": [
  {
   "cell_type": "markdown",
   "metadata": {},
   "source": [
    "**The bmi have 2 functon:**<br>\n",
    "    - **Fun.bmi(): To Calculate BMI for given Height(cm) and Weight(kg)**<br>\n",
    "    - **Func.bmi_df(): for a given data frame it calculate BMI, check for category and Risk factors and append into data frame.**<br>\n",
    "**Requirement: Python = 3.0 and above. and pandas package**<br>\n",
    "**Step1:**<br>\n",
    "Import required packages.{Pandas and bmi}<br>\n",
    "**Step2:**<br>\n",
    "Import data in current environmrnt.<br>\n",
    "**Step3:**<br>\n",
    "Run:Func.bmi_df(data,Weight,Height)\n"
   ]
  },
  {
   "cell_type": "code",
   "execution_count": 1,
   "metadata": {},
   "outputs": [],
   "source": [
    "import pandas as pd\n",
    "from bmi import Func"
   ]
  },
  {
   "cell_type": "markdown",
   "metadata": {},
   "source": [
    "### **Task 1:**\n",
    "**Calculate the BMI (Body Mass Index) using Formula, BMI Category and Health risk\n",
    "based on the BMI range and add it as 3 new data entities.**"
   ]
  },
  {
   "cell_type": "code",
   "execution_count": 2,
   "metadata": {},
   "outputs": [],
   "source": [
    "data = pd.read_json(\"bmi.json\")"
   ]
  },
  {
   "cell_type": "code",
   "execution_count": 3,
   "metadata": {},
   "outputs": [],
   "source": [
    "Func.bmi_df(data,'WeightKg','HeightCm')"
   ]
  },
  {
   "cell_type": "markdown",
   "metadata": {},
   "source": [
    "### **Task 2**\n",
    "**Count the total number of overweight people using ranges in the column BMI Category.**\n"
   ]
  },
  {
   "cell_type": "code",
   "execution_count": 4,
   "metadata": {},
   "outputs": [
    {
     "name": "stdout",
     "output_type": "stream",
     "text": [
      "No. of Patient with Overveight is:  1\n"
     ]
    }
   ],
   "source": [
    "r,c = data.shape\n",
    "count = 0\n",
    "for i in range(r):\n",
    "    if data['BMI_Category'][i] == 'Overweight':\n",
    "        count += 1\n",
    "print(\"No. of Patient with Overveight is: \", count)"
   ]
  },
  {
   "cell_type": "markdown",
   "metadata": {},
   "source": [
    "**OR**"
   ]
  },
  {
   "cell_type": "code",
   "execution_count": 5,
   "metadata": {},
   "outputs": [
    {
     "data": {
      "text/plain": [
       "1"
      ]
     },
     "execution_count": 5,
     "metadata": {},
     "output_type": "execute_result"
    }
   ],
   "source": [
    "data['BMI_Category'].value_counts().Overweight"
   ]
  }
 ],
 "metadata": {
  "interpreter": {
   "hash": "5eaa206a798550cb48669c1426b62f481612485c26690da60d62e4b11dd31c1b"
  },
  "kernelspec": {
   "display_name": "Python 3.8.2 64-bit",
   "language": "python",
   "name": "python3"
  },
  "language_info": {
   "codemirror_mode": {
    "name": "ipython",
    "version": 3
   },
   "file_extension": ".py",
   "mimetype": "text/x-python",
   "name": "python",
   "nbconvert_exporter": "python",
   "pygments_lexer": "ipython3",
   "version": "3.8.2"
  },
  "orig_nbformat": 4
 },
 "nbformat": 4,
 "nbformat_minor": 2
}
